{
 "cells": [
  {
   "cell_type": "code",
   "execution_count": 1,
   "metadata": {},
   "outputs": [],
   "source": [
    "import numpy as np\n",
    "import pandas as pd\n",
    "from pandas.io.json import json_normalize\n",
    "import requests \n",
    "import json\n"
   ]
  },
  {
   "cell_type": "code",
   "execution_count": 2,
   "metadata": {},
   "outputs": [],
   "source": [
    "# Remove\n",
    "\n",
    "API_KEY = 'YOUR KEY'\n"
   ]
  },
  {
   "cell_type": "code",
   "execution_count": 3,
   "metadata": {},
   "outputs": [],
   "source": [
    "# Collect \n",
    "\n",
    "def detail_url_collector(jsons):\n",
    "    res = jsons\n",
    "    ret_list = []\n",
    "    for json in res:\n",
    "        ret_list.append(json['api_detail_url'])\n",
    "    return ret_list"
   ]
  },
  {
   "cell_type": "code",
   "execution_count": 40,
   "metadata": {},
   "outputs": [],
   "source": [
    "# Note requester and volume_collector should be refactorted, code is redunadant. \n",
    "\n",
    "def requester(API_URL, KEY):\n",
    "    '''\n",
    "    Takes 2-tuples of user key and a context-specific url, outputs a dictionary object\n",
    "    \n",
    "    '''\n",
    "\n",
    "    # Note this should only be initialized once, put in class init later\n",
    "    HEADERS = {'User-Agent': 'Mozilla/5.0 (X11; Linux x86_64; rv:7.0) '\n",
    "                             'Gecko/20130825 Firefox/36.0'}\n",
    "    \n",
    "    params = {'api_key':   KEY,\n",
    "              'format':    'json',\n",
    "              'limit':     50, \n",
    "              'offset':    max(0, 5), \n",
    "              'resources': 'issues',\n",
    "              'limit':30}\n",
    "    response = requests.get(API_URL, headers=HEADERS, params=params)\n",
    "    ret_dict = json.loads(response.text)\n",
    "    return ret_dict"
   ]
  },
  {
   "cell_type": "code",
   "execution_count": 30,
   "metadata": {},
   "outputs": [],
   "source": [
    "def volume_collector(query, API_KEY):\n",
    "    HEADERS = {'User-Agent': 'Mozilla/5.0 (X11; Linux x86_64; rv:7.0) '\n",
    "    'Gecko/20130825 Firefox/36.0'}\n",
    "    \n",
    "    API_URL = 'https://www.comicvine.com/api/search/'\n",
    "\n",
    "\n",
    "    params = {'api_key': API_KEY,\n",
    "    'format': 'json',\n",
    "    'limit': 50, # hard limit of 10\n",
    "    'offset': max(0, 5), # cannot provide negative offset\n",
    "    'query': query,\n",
    "    'resources': 'volume', \n",
    "    'fields': 'volume'}\n",
    "\n",
    "    response = requests.get(API_URL, headers=HEADERS, params=params)\n",
    "    ret_dict = json.loads(response.text)\n",
    "\n",
    "    seeder = ret_dict['results'][0]['api_detail_url']\n",
    "    \n",
    "    return seeder"
   ]
  },
  {
   "cell_type": "code",
   "execution_count": 31,
   "metadata": {},
   "outputs": [],
   "source": [
    "# Note - the process is like a simple di-graph, starting from the initial node to extract the volume id. From here\n",
    "# we can extract issue ids, and then generate the tabular data form for the first version\n",
    "\n",
    "volume_seeder = volume_collector(\"Detective Comics\", API_KEY)"
   ]
  },
  {
   "cell_type": "code",
   "execution_count": 41,
   "metadata": {},
   "outputs": [],
   "source": [
    "# This provides all of the comics of a title \n",
    "\n",
    "issues_dict = requester(volume_seeder, API_KEY)['results']['issues']"
   ]
  },
  {
   "cell_type": "code",
   "execution_count": 43,
   "metadata": {},
   "outputs": [],
   "source": [
    "# Coercing \n",
    "\n",
    "issues_list = detail_url_collector(issues_dict)"
   ]
  },
  {
   "cell_type": "code",
   "execution_count": 130,
   "metadata": {
    "scrolled": false
   },
   "outputs": [
    {
     "data": {
      "text/plain": [
       "'https://comicvine.gamespot.com/api/issue/4000-105763/'"
      ]
     },
     "execution_count": 130,
     "metadata": {},
     "output_type": "execute_result"
    }
   ],
   "source": [
    "# Note - this needs to all be refactored - just testing for now"
   ]
  },
  {
   "cell_type": "code",
   "execution_count": 72,
   "metadata": {},
   "outputs": [],
   "source": [
    "temp_list = issues_list[:30]"
   ]
  },
  {
   "cell_type": "code",
   "execution_count": 85,
   "metadata": {},
   "outputs": [],
   "source": [
    "char_list = []\n",
    "death_list = []\n",
    "concept_list = []\n",
    "cover_date = []\n",
    "team_list = []\n",
    "team_disbanded = []\n",
    "object_list = []\n",
    "person_list = []\n",
    "issue_name = []\n",
    "issue_number = []\n",
    "location_list = []\n",
    "first_appearance_list = []\n",
    "first_appearance_concept = []\n",
    "first_appearance_location = []\n",
    "first_appearance_objects = []\n",
    "first_appearance_story = []\n",
    "first_appearance_team = []\n",
    "description_list = []\n",
    "deck_list = []"
   ]
  },
  {
   "cell_type": "code",
   "execution_count": 86,
   "metadata": {},
   "outputs": [],
   "source": [
    "# Call requester once and cache\n",
    "\n",
    "for issues in temp_list:\n",
    "    \n",
    "    # Call requester once and cache\n",
    "    issue_cache = requester(issues, API_KEY)['results']\n",
    "    \n",
    "    \n",
    "    if issue_cache['character_credits'] is None:\n",
    "        location_list.append('None')\n",
    "    else:\n",
    "        for person in issue_cache['character_credits']:\n",
    "            char_list.append(person['name'])\n",
    "    \n",
    "    if issue_cache['character_died_in'] is None:\n",
    "        location_list.append('None')\n",
    "    else:  \n",
    "        for person in issue_cache['character_died_in']:\n",
    "            char_list.append(person['name'])\n",
    "        \n",
    "    if issue_cache['concept_credits'] is None:\n",
    "        location_list.append('None')\n",
    "    else:\n",
    "        for concept in issue_cache['concept_credits']:\n",
    "            concept_list.append(concept['name'])\n",
    "    \n",
    "    if issue_cache['cover_date'] is None:\n",
    "        location_list.append('None')\n",
    "    else:\n",
    "        cover_date.append(issue_cache['cover_date'])\n",
    "    \n",
    "    \n",
    "    if issue_cache['team_credits'] is None:\n",
    "        location_list.append('None')\n",
    "    else:\n",
    "        for team in issue_cache['team_credits']:\n",
    "            team_list.append(team['name'])\n",
    "        \n",
    "    if issue_cache['team_disbanded_in'] is None:\n",
    "        location_list.append('None')\n",
    "    else:\n",
    "        for team in issue_cache['team_disbanded_in']:\n",
    "            team_disbanded.append(team['name'])\n",
    "        \n",
    "    if issue_cache['object_credits'] is None:\n",
    "        location_list.append('None')\n",
    "    else:\n",
    "        for obj in issue_cache['object_credits']:\n",
    "            object_list.append(obj['name'])\n",
    "        \n",
    "    if issue_cache['person_credits'] is None:\n",
    "        location_list.append('None')\n",
    "    else:\n",
    "        for person in issue_cache['person_credits']:\n",
    "            person_list.append(person['name'])\n",
    "        \n",
    "    if issue_cache['name'] is None:\n",
    "        location_list.append('None')\n",
    "    else:\n",
    "        issue_name.append(issue_cache['name'])\n",
    "    \n",
    "    if issue_cache['issue_number'] is None:\n",
    "        location_list.append('None')\n",
    "    else:\n",
    "        issue_number.append(issue_cache['issue_number'])\n",
    "    \n",
    "    if issue_cache['location_credits'] is None:\n",
    "        location_list.append('None')\n",
    "    else:\n",
    "        for locae in issue_cache['location_credits']:\n",
    "            location_list.append(locae['name'])\n",
    "\n",
    "    if issue_cache['first_appearance_characters'] is None:\n",
    "        first_appearance_list.append('None')\n",
    "    else:\n",
    "        for first in issue_cache['first_appearance_characters']:\n",
    "            first_appearance_list.append(first['name'])\n",
    "\n",
    "    if issue_cache['first_appearance_concepts'] is None:\n",
    "        first_appearance_concept.append('None')\n",
    "    else:\n",
    "        for first in issue_cache['first_appearance_concepts']:\n",
    "            first_appearance_concept.append(first['name'])\n",
    "\n",
    "    if issue_cache['first_appearance_locations'] is None:\n",
    "        first_appearance_location.append('None')\n",
    "    else:\n",
    "        for first in issue_cache['first_appearance_locations']:\n",
    "            first_appearance_location.append(first['name'])\n",
    "\n",
    "    if issue_cache['first_appearance_objects'] is None:\n",
    "        first_appearance_objects.append('None')\n",
    "    else:\n",
    "        for obj in issue_cache['first_appearance_objects']:\n",
    "            first_appearance_objects.append(obj['name'])\n",
    "            \n",
    "\n",
    "    if issue_cache['first_appearance_storyarcs'] is None:\n",
    "        first_appearance_story.append('None')\n",
    "    else:\n",
    "        for arc in issue_cache['first_appearance_storyarcs']:\n",
    "            first_appearance_story.append(arc['name'])\n",
    "\n",
    "    if issue_cache['first_appearance_teams'] is None:\n",
    "        first_appearance_team.append('None')\n",
    "    else:\n",
    "        for team in issue_cache['first_appearance_teams']:\n",
    "            first_appearance_team.append(team['name'])\n",
    "            \n",
    "    if issue_cache['description'] is None:\n",
    "        location_list.append('None')\n",
    "    else:\n",
    "        description_list.append(issue_cache['description'])\n",
    "\n",
    "\n",
    "    if issue_cache['deck'] is None:\n",
    "        deck_list.append('None')\n",
    "    else:\n",
    "        for deck in issue_cache['deck']:\n",
    "            deck_list.append(deck['name'])"
   ]
  },
  {
   "cell_type": "code",
   "execution_count": null,
   "metadata": {},
   "outputs": [],
   "source": []
  },
  {
   "cell_type": "code",
   "execution_count": 87,
   "metadata": {},
   "outputs": [
    {
     "ename": "ValueError",
     "evalue": "arrays must all be same length",
     "output_type": "error",
     "traceback": [
      "\u001b[0;31m---------------------------------------------------------------------------\u001b[0m",
      "\u001b[0;31mValueError\u001b[0m                                Traceback (most recent call last)",
      "\u001b[0;32m<ipython-input-87-971ad0b0ff98>\u001b[0m in \u001b[0;36m<module>\u001b[0;34m()\u001b[0m\n\u001b[1;32m     17\u001b[0m                          \u001b[0;34m\"First Appearances of a Team\"\u001b[0m\u001b[0;34m:\u001b[0m\u001b[0mfirst_appearance_team\u001b[0m\u001b[0;34m,\u001b[0m\u001b[0;34m\u001b[0m\u001b[0;34m\u001b[0m\u001b[0m\n\u001b[1;32m     18\u001b[0m                          \u001b[0;34m\"Description\"\u001b[0m\u001b[0;34m:\u001b[0m \u001b[0mdescription_list\u001b[0m\u001b[0;34m,\u001b[0m\u001b[0;34m\u001b[0m\u001b[0;34m\u001b[0m\u001b[0m\n\u001b[0;32m---> 19\u001b[0;31m                          \"Deck\": deck_list})\n\u001b[0m",
      "\u001b[0;32m/usr/local/lib/python3.7/dist-packages/pandas/core/frame.py\u001b[0m in \u001b[0;36m__init__\u001b[0;34m(self, data, index, columns, dtype, copy)\u001b[0m\n\u001b[1;32m    409\u001b[0m             )\n\u001b[1;32m    410\u001b[0m         \u001b[0;32melif\u001b[0m \u001b[0misinstance\u001b[0m\u001b[0;34m(\u001b[0m\u001b[0mdata\u001b[0m\u001b[0;34m,\u001b[0m \u001b[0mdict\u001b[0m\u001b[0;34m)\u001b[0m\u001b[0;34m:\u001b[0m\u001b[0;34m\u001b[0m\u001b[0;34m\u001b[0m\u001b[0m\n\u001b[0;32m--> 411\u001b[0;31m             \u001b[0mmgr\u001b[0m \u001b[0;34m=\u001b[0m \u001b[0minit_dict\u001b[0m\u001b[0;34m(\u001b[0m\u001b[0mdata\u001b[0m\u001b[0;34m,\u001b[0m \u001b[0mindex\u001b[0m\u001b[0;34m,\u001b[0m \u001b[0mcolumns\u001b[0m\u001b[0;34m,\u001b[0m \u001b[0mdtype\u001b[0m\u001b[0;34m=\u001b[0m\u001b[0mdtype\u001b[0m\u001b[0;34m)\u001b[0m\u001b[0;34m\u001b[0m\u001b[0;34m\u001b[0m\u001b[0m\n\u001b[0m\u001b[1;32m    412\u001b[0m         \u001b[0;32melif\u001b[0m \u001b[0misinstance\u001b[0m\u001b[0;34m(\u001b[0m\u001b[0mdata\u001b[0m\u001b[0;34m,\u001b[0m \u001b[0mma\u001b[0m\u001b[0;34m.\u001b[0m\u001b[0mMaskedArray\u001b[0m\u001b[0;34m)\u001b[0m\u001b[0;34m:\u001b[0m\u001b[0;34m\u001b[0m\u001b[0;34m\u001b[0m\u001b[0m\n\u001b[1;32m    413\u001b[0m             \u001b[0;32mimport\u001b[0m \u001b[0mnumpy\u001b[0m\u001b[0;34m.\u001b[0m\u001b[0mma\u001b[0m\u001b[0;34m.\u001b[0m\u001b[0mmrecords\u001b[0m \u001b[0;32mas\u001b[0m \u001b[0mmrecords\u001b[0m\u001b[0;34m\u001b[0m\u001b[0;34m\u001b[0m\u001b[0m\n",
      "\u001b[0;32m/usr/local/lib/python3.7/dist-packages/pandas/core/internals/construction.py\u001b[0m in \u001b[0;36minit_dict\u001b[0;34m(data, index, columns, dtype)\u001b[0m\n\u001b[1;32m    255\u001b[0m             \u001b[0marr\u001b[0m \u001b[0;32mif\u001b[0m \u001b[0;32mnot\u001b[0m \u001b[0mis_datetime64tz_dtype\u001b[0m\u001b[0;34m(\u001b[0m\u001b[0marr\u001b[0m\u001b[0;34m)\u001b[0m \u001b[0;32melse\u001b[0m \u001b[0marr\u001b[0m\u001b[0;34m.\u001b[0m\u001b[0mcopy\u001b[0m\u001b[0;34m(\u001b[0m\u001b[0;34m)\u001b[0m \u001b[0;32mfor\u001b[0m \u001b[0marr\u001b[0m \u001b[0;32min\u001b[0m \u001b[0marrays\u001b[0m\u001b[0;34m\u001b[0m\u001b[0;34m\u001b[0m\u001b[0m\n\u001b[1;32m    256\u001b[0m         ]\n\u001b[0;32m--> 257\u001b[0;31m     \u001b[0;32mreturn\u001b[0m \u001b[0marrays_to_mgr\u001b[0m\u001b[0;34m(\u001b[0m\u001b[0marrays\u001b[0m\u001b[0;34m,\u001b[0m \u001b[0mdata_names\u001b[0m\u001b[0;34m,\u001b[0m \u001b[0mindex\u001b[0m\u001b[0;34m,\u001b[0m \u001b[0mcolumns\u001b[0m\u001b[0;34m,\u001b[0m \u001b[0mdtype\u001b[0m\u001b[0;34m=\u001b[0m\u001b[0mdtype\u001b[0m\u001b[0;34m)\u001b[0m\u001b[0;34m\u001b[0m\u001b[0;34m\u001b[0m\u001b[0m\n\u001b[0m\u001b[1;32m    258\u001b[0m \u001b[0;34m\u001b[0m\u001b[0m\n\u001b[1;32m    259\u001b[0m \u001b[0;34m\u001b[0m\u001b[0m\n",
      "\u001b[0;32m/usr/local/lib/python3.7/dist-packages/pandas/core/internals/construction.py\u001b[0m in \u001b[0;36marrays_to_mgr\u001b[0;34m(arrays, arr_names, index, columns, dtype)\u001b[0m\n\u001b[1;32m     75\u001b[0m     \u001b[0;31m# figure out the index, if necessary\u001b[0m\u001b[0;34m\u001b[0m\u001b[0;34m\u001b[0m\u001b[0;34m\u001b[0m\u001b[0m\n\u001b[1;32m     76\u001b[0m     \u001b[0;32mif\u001b[0m \u001b[0mindex\u001b[0m \u001b[0;32mis\u001b[0m \u001b[0;32mNone\u001b[0m\u001b[0;34m:\u001b[0m\u001b[0;34m\u001b[0m\u001b[0;34m\u001b[0m\u001b[0m\n\u001b[0;32m---> 77\u001b[0;31m         \u001b[0mindex\u001b[0m \u001b[0;34m=\u001b[0m \u001b[0mextract_index\u001b[0m\u001b[0;34m(\u001b[0m\u001b[0marrays\u001b[0m\u001b[0;34m)\u001b[0m\u001b[0;34m\u001b[0m\u001b[0;34m\u001b[0m\u001b[0m\n\u001b[0m\u001b[1;32m     78\u001b[0m     \u001b[0;32melse\u001b[0m\u001b[0;34m:\u001b[0m\u001b[0;34m\u001b[0m\u001b[0;34m\u001b[0m\u001b[0m\n\u001b[1;32m     79\u001b[0m         \u001b[0mindex\u001b[0m \u001b[0;34m=\u001b[0m \u001b[0mensure_index\u001b[0m\u001b[0;34m(\u001b[0m\u001b[0mindex\u001b[0m\u001b[0;34m)\u001b[0m\u001b[0;34m\u001b[0m\u001b[0;34m\u001b[0m\u001b[0m\n",
      "\u001b[0;32m/usr/local/lib/python3.7/dist-packages/pandas/core/internals/construction.py\u001b[0m in \u001b[0;36mextract_index\u001b[0;34m(data)\u001b[0m\n\u001b[1;32m    366\u001b[0m             \u001b[0mlengths\u001b[0m \u001b[0;34m=\u001b[0m \u001b[0mlist\u001b[0m\u001b[0;34m(\u001b[0m\u001b[0mset\u001b[0m\u001b[0;34m(\u001b[0m\u001b[0mraw_lengths\u001b[0m\u001b[0;34m)\u001b[0m\u001b[0;34m)\u001b[0m\u001b[0;34m\u001b[0m\u001b[0;34m\u001b[0m\u001b[0m\n\u001b[1;32m    367\u001b[0m             \u001b[0;32mif\u001b[0m \u001b[0mlen\u001b[0m\u001b[0;34m(\u001b[0m\u001b[0mlengths\u001b[0m\u001b[0;34m)\u001b[0m \u001b[0;34m>\u001b[0m \u001b[0;36m1\u001b[0m\u001b[0;34m:\u001b[0m\u001b[0;34m\u001b[0m\u001b[0;34m\u001b[0m\u001b[0m\n\u001b[0;32m--> 368\u001b[0;31m                 \u001b[0;32mraise\u001b[0m \u001b[0mValueError\u001b[0m\u001b[0;34m(\u001b[0m\u001b[0;34m\"arrays must all be same length\"\u001b[0m\u001b[0;34m)\u001b[0m\u001b[0;34m\u001b[0m\u001b[0;34m\u001b[0m\u001b[0m\n\u001b[0m\u001b[1;32m    369\u001b[0m \u001b[0;34m\u001b[0m\u001b[0m\n\u001b[1;32m    370\u001b[0m             \u001b[0;32mif\u001b[0m \u001b[0mhave_dicts\u001b[0m\u001b[0;34m:\u001b[0m\u001b[0;34m\u001b[0m\u001b[0;34m\u001b[0m\u001b[0m\n",
      "\u001b[0;31mValueError\u001b[0m: arrays must all be same length"
     ]
    }
   ],
   "source": [
    "temp_dat = pd.DataFrame({\"Characters\":char_list, \n",
    "                         \"Deaths\": death_list,\n",
    "                         \"Concepts\": concept_list,\n",
    "                         \"Cover Date\": cover_date,\n",
    "                         \"Teams\": team_list,\n",
    "                         \"Disbanded Teams\": team_disbanded,\n",
    "                         \"Objects in Issue\": object_list,\n",
    "                         \"Persons\": person_list,\n",
    "                         \"Issue Name\": issue_name,\n",
    "                         \"Issue Number\": issue_number,\n",
    "                         \"Locations\":location_list,\n",
    "                         \"First Apperances\": first_appearance_list,\n",
    "                         \"First Apperances of a Concept\": first_appearance_concept,\n",
    "                         \"First Appearances of a Location\": first_appearance_location,\n",
    "                         \"First Appearances of a Object\": first_appearance_objects,\n",
    "                         \"First Appearances of a Story\": first_appearance_story,\n",
    "                         \"First Appearances of a Team\":first_appearance_team,\n",
    "                         \"Description\": description_list,\n",
    "                         \"Deck\": deck_list})"
   ]
  },
  {
   "cell_type": "code",
   "execution_count": null,
   "metadata": {},
   "outputs": [],
   "source": []
  },
  {
   "cell_type": "code",
   "execution_count": null,
   "metadata": {},
   "outputs": [],
   "source": []
  },
  {
   "cell_type": "code",
   "execution_count": null,
   "metadata": {},
   "outputs": [],
   "source": []
  },
  {
   "cell_type": "code",
   "execution_count": null,
   "metadata": {},
   "outputs": [],
   "source": []
  },
  {
   "cell_type": "code",
   "execution_count": null,
   "metadata": {},
   "outputs": [],
   "source": [
    "'''\n",
    "TODO - Initialize a DataFrame wihth the following columns - \n",
    "\n",
    "Issues Number, Cover Date, Creators, Characters, Teams, Locations, Concepts, \n",
    "Objects, Story Arcs, Issue Name, In Store Date\n",
    "\n",
    "''' \n"
   ]
  },
  {
   "cell_type": "code",
   "execution_count": 48,
   "metadata": {},
   "outputs": [
    {
     "data": {
      "text/plain": [
       "{'aliases': None,\n",
       " 'api_detail_url': 'https://comicvine.gamespot.com/api/issue/4000-670341/',\n",
       " 'character_credits': [{'api_detail_url': 'https://comicvine.gamespot.com/api/character/4005-6129/',\n",
       "   'id': 6129,\n",
       "   'name': 'Bane',\n",
       "   'site_detail_url': 'https://comicvine.gamespot.com/bane/4005-6129/'},\n",
       "  {'api_detail_url': 'https://comicvine.gamespot.com/api/character/4005-1699/',\n",
       "   'id': 1699,\n",
       "   'name': 'Batman',\n",
       "   'site_detail_url': 'https://comicvine.gamespot.com/batman/4005-1699/'}],\n",
       " 'character_died_in': [],\n",
       " 'concept_credits': [],\n",
       " 'cover_date': None,\n",
       " 'date_added': '2018-05-18 19:14:40',\n",
       " 'date_last_updated': '2018-05-18 19:14:40',\n",
       " 'deck': '  ',\n",
       " 'description': None,\n",
       " 'first_appearance_characters': None,\n",
       " 'first_appearance_concepts': None,\n",
       " 'first_appearance_locations': None,\n",
       " 'first_appearance_objects': None,\n",
       " 'first_appearance_storyarcs': None,\n",
       " 'first_appearance_teams': None,\n",
       " 'has_staff_review': False,\n",
       " 'id': 670341,\n",
       " 'image': {'icon_url': 'https://comicvine.gamespot.com/api/image/square_avatar/6433432-bat6.jpg',\n",
       "  'medium_url': 'https://comicvine.gamespot.com/api/image/scale_medium/6433432-bat6.jpg',\n",
       "  'screen_url': 'https://comicvine.gamespot.com/api/image/screen_medium/6433432-bat6.jpg',\n",
       "  'screen_large_url': 'https://comicvine.gamespot.com/api/image/screen_kubrick/6433432-bat6.jpg',\n",
       "  'small_url': 'https://comicvine.gamespot.com/api/image/scale_small/6433432-bat6.jpg',\n",
       "  'super_url': 'https://comicvine.gamespot.com/api/image/scale_large/6433432-bat6.jpg',\n",
       "  'thumb_url': 'https://comicvine.gamespot.com/api/image/scale_avatar/6433432-bat6.jpg',\n",
       "  'tiny_url': 'https://comicvine.gamespot.com/api/image/square_mini/6433432-bat6.jpg',\n",
       "  'original_url': 'https://comicvine.gamespot.com/api/image/original/6433432-bat6.jpg',\n",
       "  'image_tags': 'All Images'},\n",
       " 'issue_number': '6',\n",
       " 'location_credits': [],\n",
       " 'name': None,\n",
       " 'object_credits': [],\n",
       " 'person_credits': [],\n",
       " 'site_detail_url': 'https://comicvine.gamespot.com/batman-rebirth-6/4000-670341/',\n",
       " 'store_date': None,\n",
       " 'story_arc_credits': [],\n",
       " 'team_credits': [],\n",
       " 'team_disbanded_in': [],\n",
       " 'volume': {'api_detail_url': 'https://comicvine.gamespot.com/api/volume/4050-110833/',\n",
       "  'id': 110833,\n",
       "  'name': 'Batman Rebirth',\n",
       "  'site_detail_url': 'https://comicvine.gamespot.com/batman-rebirth/4050-110833/'}}"
      ]
     },
     "execution_count": 48,
     "metadata": {},
     "output_type": "execute_result"
    }
   ],
   "source": [
    "json.loads(response.text)['results']"
   ]
  },
  {
   "cell_type": "code",
   "execution_count": null,
   "metadata": {},
   "outputs": [],
   "source": []
  }
 ],
 "metadata": {
  "kernelspec": {
   "display_name": "Python 3",
   "language": "python",
   "name": "python3"
  },
  "language_info": {
   "codemirror_mode": {
    "name": "ipython",
    "version": 3
   },
   "file_extension": ".py",
   "mimetype": "text/x-python",
   "name": "python",
   "nbconvert_exporter": "python",
   "pygments_lexer": "ipython3",
   "version": "3.7.5"
  }
 },
 "nbformat": 4,
 "nbformat_minor": 2
}
