{
 "cells": [
  {
   "cell_type": "code",
   "execution_count": 1,
   "metadata": {},
   "outputs": [],
   "source": [
    "import numpy as np\n",
    "import pandas as pd\n",
    "from pandas.io.json import json_normalize\n",
    "import requests \n",
    "import json\n"
   ]
  },
  {
   "cell_type": "code",
   "execution_count": 89,
   "metadata": {},
   "outputs": [],
   "source": [
    "# Remove\n",
    "\n",
    "API_KEY = 'YOUR KEY'\n"
   ]
  },
  {
   "cell_type": "code",
   "execution_count": 96,
   "metadata": {},
   "outputs": [],
   "source": [
    "# Collect \n",
    "\n",
    "def detail_url_collector(jsons):\n",
    "    res = jsons\n",
    "    ret_list = []\n",
    "    for json in res:\n",
    "        ret_list.append(json['api_detail_url'])\n",
    "    return ret_list"
   ]
  },
  {
   "cell_type": "code",
   "execution_count": 73,
   "metadata": {},
   "outputs": [],
   "source": [
    "# Note requester and volume_collector should be refactorted, code is redunadant. \n",
    "\n",
    "def requester(API_URL, KEY):\n",
    "    '''\n",
    "    Takes 2-tuples of user key and a context-specific url, outputs a dictionary object\n",
    "    \n",
    "    '''\n",
    "    # Note this should only be initialized once, put in class init later\n",
    "    HEADERS = {'User-Agent': 'Mozilla/5.0 (X11; Linux x86_64; rv:7.0) '\n",
    "                             'Gecko/20130825 Firefox/36.0'}\n",
    "    \n",
    "    params = {'api_key':   KEY,\n",
    "              'format':    'json',\n",
    "              'limit':     50, \n",
    "              'offset':    max(0, 5), \n",
    "              'resources': 'issues',\n",
    "              'limit':30}\n",
    "    response = requests.get(API_URL, headers=HEADERS, params=params)\n",
    "    ret_dict = json.loads(response.text)\n",
    "    return ret_dict"
   ]
  },
  {
   "cell_type": "code",
   "execution_count": 123,
   "metadata": {},
   "outputs": [],
   "source": [
    "def volume_collector(query, API_KEY):\n",
    "    HEADERS = {'User-Agent': 'Mozilla/5.0 (X11; Linux x86_64; rv:7.0) '\n",
    "    'Gecko/20130825 Firefox/36.0'}\n",
    "\n",
    "    params = {'api_key': API_KEY,\n",
    "    'format': 'json',\n",
    "    'limit': 50, # hard limit of 10\n",
    "    'offset': max(0, 5), # cannot provide negative offset\n",
    "    'query': query,\n",
    "    'resources': 'volume', \n",
    "    'fields': 'volume'}\n",
    "\n",
    "    response = requests.get(API_URL, headers=HEADERS, params=params)\n",
    "    ret_dict = json.loads(response.text)\n",
    "\n",
    "    seeder = ret_dict['results'][0]['api_detail_url']\n",
    "    \n",
    "    return seeder"
   ]
  },
  {
   "cell_type": "code",
   "execution_count": 124,
   "metadata": {},
   "outputs": [],
   "source": [
    "# Note - the process is like a simple di-graph, starting from the initial node to extract the volume id. From here\n",
    "# we can extract issue ids, and then generate the tabular data form for the first version\n",
    "\n",
    "volume_seeder = volume_collector(\"Detective Comics\", API_KEY)"
   ]
  },
  {
   "cell_type": "code",
   "execution_count": 126,
   "metadata": {},
   "outputs": [],
   "source": [
    "# This provides all of the comics of a title \n",
    "\n",
    "issues_dict = requester(volume_seeder, API_KEY)['results']['issues']"
   ]
  },
  {
   "cell_type": "code",
   "execution_count": 127,
   "metadata": {},
   "outputs": [],
   "source": [
    "# Coercing \n",
    "\n",
    "issues_list = detail_url_collector(issues_dict)"
   ]
  },
  {
   "cell_type": "code",
   "execution_count": 130,
   "metadata": {
    "scrolled": true
   },
   "outputs": [
    {
     "data": {
      "text/plain": [
       "'https://comicvine.gamespot.com/api/issue/4000-105763/'"
      ]
     },
     "execution_count": 130,
     "metadata": {},
     "output_type": "execute_result"
    }
   ],
   "source": [
    "# Note - this needs to all be refactored - just testing for now"
   ]
  },
  {
   "cell_type": "code",
   "execution_count": 133,
   "metadata": {},
   "outputs": [],
   "source": [
    "char_list = []\n",
    "for person in requester(issues_list[0], API_KEY)['results']['character_credits']:\n",
    "    char_list.append(person['name'])"
   ]
  },
  {
   "cell_type": "code",
   "execution_count": 135,
   "metadata": {},
   "outputs": [],
   "source": [
    "death_list = []\n",
    "for person in requester(issues_list[0], API_KEY)['results']['character_died_in']:\n",
    "    char_list.append(person['name'])"
   ]
  },
  {
   "cell_type": "code",
   "execution_count": 138,
   "metadata": {},
   "outputs": [],
   "source": [
    "concept_list = []\n",
    "for concept in requester(issues_list[0], API_KEY)['results']['concept_credits']:\n",
    "    concept_list.append(concept['name'])"
   ]
  },
  {
   "cell_type": "code",
   "execution_count": 143,
   "metadata": {},
   "outputs": [],
   "source": [
    "cover_date.append(requester(issues_list[0], API_KEY)['results']['cover_date'])"
   ]
  },
  {
   "cell_type": "code",
   "execution_count": 144,
   "metadata": {},
   "outputs": [],
   "source": [
    "team_list = []\n",
    "for team in requester(issues_list[0], API_KEY)['results']['team_credits']:\n",
    "    team_list.append(team['name'])"
   ]
  },
  {
   "cell_type": "code",
   "execution_count": 153,
   "metadata": {},
   "outputs": [],
   "source": [
    "team_disbanded = []\n",
    "for team in requester(issues_list[0], API_KEY)['results']['team_disbanded_in']:\n",
    "    team_disbanded.append(team['name'])"
   ]
  },
  {
   "cell_type": "code",
   "execution_count": 151,
   "metadata": {},
   "outputs": [],
   "source": [
    "object_list = []\n",
    "for obj in requester(issues_list[0], API_KEY)['results']['object_credits']:\n",
    "    object_list.append(obj['name'])"
   ]
  },
  {
   "cell_type": "code",
   "execution_count": 154,
   "metadata": {},
   "outputs": [],
   "source": [
    "person_list = []\n",
    "for person in requester(issues_list[0], API_KEY)['results']['person_credits']:\n",
    "    person_list.append(person['name'])\n"
   ]
  },
  {
   "cell_type": "code",
   "execution_count": 157,
   "metadata": {},
   "outputs": [],
   "source": [
    "issue_name = []\n",
    "issue_name.append(requester(issues_list[0], API_KEY)['results']['name'])"
   ]
  },
  {
   "cell_type": "code",
   "execution_count": 158,
   "metadata": {},
   "outputs": [],
   "source": [
    "issue_number = []\n",
    "issue_number.append(requester(issues_list[0], API_KEY)['results']['issue_number'])"
   ]
  },
  {
   "cell_type": "code",
   "execution_count": 160,
   "metadata": {},
   "outputs": [],
   "source": [
    "location_list = []\n",
    "for locae in requester(issues_list[0], API_KEY)['results']['location_credits']:\n",
    "    location_list.append(locae['name'])\n"
   ]
  },
  {
   "cell_type": "code",
   "execution_count": 170,
   "metadata": {},
   "outputs": [],
   "source": [
    "first_appearance_list = []\n",
    "\n",
    "if requester(issues_list[0], API_KEY)['results']['first_appearance_characters'] is None:\n",
    "    first_appearance_list.append('None')\n",
    "else:\n",
    "    for first in requester(issues_list[0], API_KEY)['results']['first_appearance_characters']:\n",
    "        first_appearance_list.append(first['name'])"
   ]
  },
  {
   "cell_type": "code",
   "execution_count": 171,
   "metadata": {},
   "outputs": [],
   "source": [
    "first_appearance_concept = []\n",
    "\n",
    "if requester(issues_list[0], API_KEY)['results']['first_appearance_concept'] is None:\n",
    "    first_appearance_concept.append('None')\n",
    "else:\n",
    "    for first in requester(issues_list[0], API_KEY)['results']['first_appearance_concept']:\n",
    "        first_appearance_concept.append(first['name'])"
   ]
  },
  {
   "cell_type": "code",
   "execution_count": 174,
   "metadata": {},
   "outputs": [],
   "source": [
    "first_appearance_location = []\n",
    "\n",
    "if requester(issues_list[0], API_KEY)['results']['first_appearance_locations'] is None:\n",
    "    first_appearance_location.append('None')\n",
    "else:\n",
    "    for first in requester(issues_list[0], API_KEY)['results']['first_appearance_locations']:\n",
    "        first_appearance_location.append(first['name'])"
   ]
  },
  {
   "cell_type": "code",
   "execution_count": 176,
   "metadata": {},
   "outputs": [],
   "source": [
    "first_appearance_objects = []\n",
    "\n",
    "if requester(issues_list[0], API_KEY)['results']['first_appearance_objects'] is None:\n",
    "    first_appearance_objects.append('None')\n",
    "else:\n",
    "    for obj in requester(issues_list[0], API_KEY)['results']['first_appearance_objects']:\n",
    "        first_appearance_objects.append(obj['name'])"
   ]
  },
  {
   "cell_type": "code",
   "execution_count": 178,
   "metadata": {},
   "outputs": [],
   "source": [
    "first_appearance_story = []\n",
    "\n",
    "if requester(issues_list[0], API_KEY)['results']['first_appearance_storyarcs'] is None:\n",
    "    first_appearance_story.append('None')\n",
    "else:\n",
    "    for arc in requester(issues_list[0], API_KEY)['results']['first_appearance_storyarcs']:\n",
    "        first_appearance_story.append(arc['name'])"
   ]
  },
  {
   "cell_type": "code",
   "execution_count": 179,
   "metadata": {},
   "outputs": [],
   "source": [
    "first_appearance_team = []\n",
    "\n",
    "if requester(issues_list[0], API_KEY)['results']['first_appearance_teams'] is None:\n",
    "    first_appearance_team.append('None')\n",
    "else:\n",
    "    for team in requester(issues_list[0], API_KEY)['results']['first_appearance_teams']:\n",
    "        first_appearance_team.append(team['name'])"
   ]
  },
  {
   "cell_type": "code",
   "execution_count": 181,
   "metadata": {},
   "outputs": [],
   "source": [
    "description_list = []\n",
    "description_list.append(requester(issues_list[0], API_KEY)['results']['description'])"
   ]
  },
  {
   "cell_type": "code",
   "execution_count": 182,
   "metadata": {},
   "outputs": [],
   "source": [
    "deck_list = []\n",
    "\n",
    "if requester(issues_list[0], API_KEY)['results']['deck'] is None:\n",
    "    deck_list.append('None')\n",
    "else:\n",
    "    for deck in requester(issues_list[0], API_KEY)['results']['deck']:\n",
    "        deck_list.append(deck['name'])"
   ]
  },
  {
   "cell_type": "code",
   "execution_count": null,
   "metadata": {},
   "outputs": [],
   "source": [
    "'''\n",
    "TODO - Initialize a DataFrame wihth the following columns - \n",
    "\n",
    "Issues Number, Cover Date, Creators, Characters, Teams, Locations, Concepts, \n",
    "Objects, Story Arcs, Issue Name, In Store Date\n",
    "\n",
    "''' \n"
   ]
  },
  {
   "cell_type": "code",
   "execution_count": 48,
   "metadata": {},
   "outputs": [
    {
     "data": {
      "text/plain": [
       "{'aliases': None,\n",
       " 'api_detail_url': 'https://comicvine.gamespot.com/api/issue/4000-670341/',\n",
       " 'character_credits': [{'api_detail_url': 'https://comicvine.gamespot.com/api/character/4005-6129/',\n",
       "   'id': 6129,\n",
       "   'name': 'Bane',\n",
       "   'site_detail_url': 'https://comicvine.gamespot.com/bane/4005-6129/'},\n",
       "  {'api_detail_url': 'https://comicvine.gamespot.com/api/character/4005-1699/',\n",
       "   'id': 1699,\n",
       "   'name': 'Batman',\n",
       "   'site_detail_url': 'https://comicvine.gamespot.com/batman/4005-1699/'}],\n",
       " 'character_died_in': [],\n",
       " 'concept_credits': [],\n",
       " 'cover_date': None,\n",
       " 'date_added': '2018-05-18 19:14:40',\n",
       " 'date_last_updated': '2018-05-18 19:14:40',\n",
       " 'deck': '  ',\n",
       " 'description': None,\n",
       " 'first_appearance_characters': None,\n",
       " 'first_appearance_concepts': None,\n",
       " 'first_appearance_locations': None,\n",
       " 'first_appearance_objects': None,\n",
       " 'first_appearance_storyarcs': None,\n",
       " 'first_appearance_teams': None,\n",
       " 'has_staff_review': False,\n",
       " 'id': 670341,\n",
       " 'image': {'icon_url': 'https://comicvine.gamespot.com/api/image/square_avatar/6433432-bat6.jpg',\n",
       "  'medium_url': 'https://comicvine.gamespot.com/api/image/scale_medium/6433432-bat6.jpg',\n",
       "  'screen_url': 'https://comicvine.gamespot.com/api/image/screen_medium/6433432-bat6.jpg',\n",
       "  'screen_large_url': 'https://comicvine.gamespot.com/api/image/screen_kubrick/6433432-bat6.jpg',\n",
       "  'small_url': 'https://comicvine.gamespot.com/api/image/scale_small/6433432-bat6.jpg',\n",
       "  'super_url': 'https://comicvine.gamespot.com/api/image/scale_large/6433432-bat6.jpg',\n",
       "  'thumb_url': 'https://comicvine.gamespot.com/api/image/scale_avatar/6433432-bat6.jpg',\n",
       "  'tiny_url': 'https://comicvine.gamespot.com/api/image/square_mini/6433432-bat6.jpg',\n",
       "  'original_url': 'https://comicvine.gamespot.com/api/image/original/6433432-bat6.jpg',\n",
       "  'image_tags': 'All Images'},\n",
       " 'issue_number': '6',\n",
       " 'location_credits': [],\n",
       " 'name': None,\n",
       " 'object_credits': [],\n",
       " 'person_credits': [],\n",
       " 'site_detail_url': 'https://comicvine.gamespot.com/batman-rebirth-6/4000-670341/',\n",
       " 'store_date': None,\n",
       " 'story_arc_credits': [],\n",
       " 'team_credits': [],\n",
       " 'team_disbanded_in': [],\n",
       " 'volume': {'api_detail_url': 'https://comicvine.gamespot.com/api/volume/4050-110833/',\n",
       "  'id': 110833,\n",
       "  'name': 'Batman Rebirth',\n",
       "  'site_detail_url': 'https://comicvine.gamespot.com/batman-rebirth/4050-110833/'}}"
      ]
     },
     "execution_count": 48,
     "metadata": {},
     "output_type": "execute_result"
    }
   ],
   "source": [
    "json.loads(response.text)['results']"
   ]
  },
  {
   "cell_type": "code",
   "execution_count": null,
   "metadata": {},
   "outputs": [],
   "source": []
  }
 ],
 "metadata": {
  "kernelspec": {
   "display_name": "Python 3",
   "language": "python",
   "name": "python3"
  },
  "language_info": {
   "codemirror_mode": {
    "name": "ipython",
    "version": 3
   },
   "file_extension": ".py",
   "mimetype": "text/x-python",
   "name": "python",
   "nbconvert_exporter": "python",
   "pygments_lexer": "ipython3",
   "version": "3.7.5"
  }
 },
 "nbformat": 4,
 "nbformat_minor": 2
}
