{
 "cells": [
  {
   "cell_type": "code",
   "execution_count": 1,
   "metadata": {},
   "outputs": [],
   "source": [
    "import numpy as np\n",
    "import pandas as pd\n",
    "from pandas.io.json import json_normalize\n",
    "import requests \n",
    "import json\n"
   ]
  },
  {
   "cell_type": "code",
   "execution_count": 27,
   "metadata": {},
   "outputs": [],
   "source": [
    "# Remove\n",
    "\n",
    "API_KEY = 'KEY'\n"
   ]
  },
  {
   "cell_type": "code",
   "execution_count": 60,
   "metadata": {},
   "outputs": [],
   "source": [
    "HEADERS = {'User-Agent': 'Mozilla/5.0 (X11; Linux x86_64; rv:7.0) '\n",
    "'Gecko/20130825 Firefox/36.0'}\n",
    "\n",
    "params = {'api_key': API_KEY,\n",
    "'format': 'json',\n",
    "'limit': 50, # hard limit of 10\n",
    "'offset': max(0, 5), # cannot provide negative offset\n",
    "'query': 'Detective Comics',\n",
    "'resources': 'volume', \n",
    "'fields': 'volume'}\n",
    "\n",
    "response = requests.get(API_URL, headers=HEADERS, params=params)"
   ]
  },
  {
   "cell_type": "code",
   "execution_count": 85,
   "metadata": {},
   "outputs": [
    {
     "data": {
      "text/plain": [
       "[]"
      ]
     },
     "execution_count": 85,
     "metadata": {},
     "output_type": "execute_result"
    }
   ],
   "source": [
    "requester('https://comicvine.gamespot.com/api/issue/4000-105763/', 'API_KEY')['results']"
   ]
  },
  {
   "cell_type": "code",
   "execution_count": 86,
   "metadata": {},
   "outputs": [
    {
     "data": {
      "text/plain": [
       "{'api_detail_url': 'https://comicvine.gamespot.com/api/issue/4000-105763/',\n",
       " 'id': 105763,\n",
       " 'name': \"The Murders of Cap'n Scum\",\n",
       " 'issue_number': '1'}"
      ]
     },
     "execution_count": 86,
     "metadata": {},
     "output_type": "execute_result"
    }
   ],
   "source": [
    "requester('https://comicvine.gamespot.com/api/volume/4050-18058/', API_KEY)['results']['first_issue']"
   ]
  },
  {
   "cell_type": "code",
   "execution_count": 88,
   "metadata": {},
   "outputs": [],
   "source": [
    "# This provides all of the comics of a title \n",
    "\n",
    "# requester('https://comicvine.gamespot.com/api/volume/4050-18058/', API_KEY)['results']['issues']"
   ]
  },
  {
   "cell_type": "code",
   "execution_count": null,
   "metadata": {},
   "outputs": [],
   "source": [
    "HEADERS = {'User-Agent': 'Mozilla/5.0 (X11; Linux x86_64; rv:7.0) '\n",
    "                             'Gecko/20130825 Firefox/36.0'}\n",
    "\n",
    "params = {'api_key':   KEY,\n",
    "              'format':    'json',\n",
    "              'limit':     min(10, 10), \n",
    "              'offset':    max(0, 5), \n",
    "              'resources': 'search',\n",
    "              'query':title\n",
    "              'limit':30}\n",
    "requests.get(API_URL, headers=HEADERS, params=params)"
   ]
  },
  {
   "cell_type": "code",
   "execution_count": 8,
   "metadata": {},
   "outputs": [],
   "source": [
    "def detail_url_collector(jsons):\n",
    "    res = jsons['results']\n",
    "    ret_list = []\n",
    "    for json in res:\n",
    "        ret_list.append(json['api_detail_url'])\n",
    "    return ret_list"
   ]
  },
  {
   "cell_type": "code",
   "execution_count": 73,
   "metadata": {},
   "outputs": [],
   "source": [
    "def requester(API_URL, KEY):\n",
    "    '''\n",
    "    Takes 2-tuples of user key and a context-specific url, outputs a dictionary object\n",
    "    \n",
    "    '''\n",
    "    # Note this should only be initialized once, put in class init later\n",
    "    HEADERS = {'User-Agent': 'Mozilla/5.0 (X11; Linux x86_64; rv:7.0) '\n",
    "                             'Gecko/20130825 Firefox/36.0'}\n",
    "    \n",
    "    params = {'api_key':   KEY,\n",
    "              'format':    'json',\n",
    "              'limit':     50, \n",
    "              'offset':    max(0, 5), \n",
    "              'resources': 'issues',\n",
    "              'limit':30}\n",
    "    response = requests.get(API_URL, headers=HEADERS, params=params)\n",
    "    ret_dict = json.loads(response.text)\n",
    "    return ret_dict"
   ]
  },
  {
   "cell_type": "code",
   "execution_count": 4,
   "metadata": {},
   "outputs": [],
   "source": [
    "# Need to write script to pull volume url based on requested comic book title\n",
    "\n",
    "API_URL = \"https://www.comicvine.com/api/issues?filter=volume:110833\"\n"
   ]
  },
  {
   "cell_type": "code",
   "execution_count": 7,
   "metadata": {},
   "outputs": [
    {
     "data": {
      "text/plain": [
       "7"
      ]
     },
     "execution_count": 7,
     "metadata": {},
     "output_type": "execute_result"
    }
   ],
   "source": [
    "len(test['results'])"
   ]
  },
  {
   "cell_type": "code",
   "execution_count": null,
   "metadata": {},
   "outputs": [],
   "source": []
  },
  {
   "cell_type": "code",
   "execution_count": 34,
   "metadata": {},
   "outputs": [],
   "source": [
    "issue_list = detail_url_collector(test)"
   ]
  },
  {
   "cell_type": "code",
   "execution_count": 35,
   "metadata": {},
   "outputs": [
    {
     "data": {
      "text/plain": [
       "'https://comicvine.gamespot.com/api/issue/4000-670341/'"
      ]
     },
     "execution_count": 35,
     "metadata": {},
     "output_type": "execute_result"
    }
   ],
   "source": [
    "issue_list[0]"
   ]
  },
  {
   "cell_type": "code",
   "execution_count": null,
   "metadata": {},
   "outputs": [],
   "source": []
  },
  {
   "cell_type": "code",
   "execution_count": null,
   "metadata": {},
   "outputs": [],
   "source": [
    "'''\n",
    "TODO - Initialize a DataFrame wihth the following columns - \n",
    "\n",
    "Issues Number, Cover Date, Creators, Characters, Teams, Locations, Concepts, \n",
    "Objects, Story Arcs, Issue Name, In Store Date\n",
    "\n",
    "''' \n"
   ]
  },
  {
   "cell_type": "code",
   "execution_count": 51,
   "metadata": {},
   "outputs": [],
   "source": [
    "char_list = []\n",
    "for person in json.loads(response.text)['results']['character_credits']:\n",
    "    char_list.append(person['name'])"
   ]
  },
  {
   "cell_type": "code",
   "execution_count": 52,
   "metadata": {},
   "outputs": [
    {
     "data": {
      "text/plain": [
       "['Bane', 'Batman']"
      ]
     },
     "execution_count": 52,
     "metadata": {},
     "output_type": "execute_result"
    }
   ],
   "source": [
    "char_list"
   ]
  },
  {
   "cell_type": "code",
   "execution_count": null,
   "metadata": {},
   "outputs": [],
   "source": [
    "char_list = []\n",
    "for person in json.loads(response.text)['results']['character_credits']:\n",
    "    char_list.append(person['name'])"
   ]
  },
  {
   "cell_type": "code",
   "execution_count": 48,
   "metadata": {},
   "outputs": [
    {
     "data": {
      "text/plain": [
       "{'aliases': None,\n",
       " 'api_detail_url': 'https://comicvine.gamespot.com/api/issue/4000-670341/',\n",
       " 'character_credits': [{'api_detail_url': 'https://comicvine.gamespot.com/api/character/4005-6129/',\n",
       "   'id': 6129,\n",
       "   'name': 'Bane',\n",
       "   'site_detail_url': 'https://comicvine.gamespot.com/bane/4005-6129/'},\n",
       "  {'api_detail_url': 'https://comicvine.gamespot.com/api/character/4005-1699/',\n",
       "   'id': 1699,\n",
       "   'name': 'Batman',\n",
       "   'site_detail_url': 'https://comicvine.gamespot.com/batman/4005-1699/'}],\n",
       " 'character_died_in': [],\n",
       " 'concept_credits': [],\n",
       " 'cover_date': None,\n",
       " 'date_added': '2018-05-18 19:14:40',\n",
       " 'date_last_updated': '2018-05-18 19:14:40',\n",
       " 'deck': '  ',\n",
       " 'description': None,\n",
       " 'first_appearance_characters': None,\n",
       " 'first_appearance_concepts': None,\n",
       " 'first_appearance_locations': None,\n",
       " 'first_appearance_objects': None,\n",
       " 'first_appearance_storyarcs': None,\n",
       " 'first_appearance_teams': None,\n",
       " 'has_staff_review': False,\n",
       " 'id': 670341,\n",
       " 'image': {'icon_url': 'https://comicvine.gamespot.com/api/image/square_avatar/6433432-bat6.jpg',\n",
       "  'medium_url': 'https://comicvine.gamespot.com/api/image/scale_medium/6433432-bat6.jpg',\n",
       "  'screen_url': 'https://comicvine.gamespot.com/api/image/screen_medium/6433432-bat6.jpg',\n",
       "  'screen_large_url': 'https://comicvine.gamespot.com/api/image/screen_kubrick/6433432-bat6.jpg',\n",
       "  'small_url': 'https://comicvine.gamespot.com/api/image/scale_small/6433432-bat6.jpg',\n",
       "  'super_url': 'https://comicvine.gamespot.com/api/image/scale_large/6433432-bat6.jpg',\n",
       "  'thumb_url': 'https://comicvine.gamespot.com/api/image/scale_avatar/6433432-bat6.jpg',\n",
       "  'tiny_url': 'https://comicvine.gamespot.com/api/image/square_mini/6433432-bat6.jpg',\n",
       "  'original_url': 'https://comicvine.gamespot.com/api/image/original/6433432-bat6.jpg',\n",
       "  'image_tags': 'All Images'},\n",
       " 'issue_number': '6',\n",
       " 'location_credits': [],\n",
       " 'name': None,\n",
       " 'object_credits': [],\n",
       " 'person_credits': [],\n",
       " 'site_detail_url': 'https://comicvine.gamespot.com/batman-rebirth-6/4000-670341/',\n",
       " 'store_date': None,\n",
       " 'story_arc_credits': [],\n",
       " 'team_credits': [],\n",
       " 'team_disbanded_in': [],\n",
       " 'volume': {'api_detail_url': 'https://comicvine.gamespot.com/api/volume/4050-110833/',\n",
       "  'id': 110833,\n",
       "  'name': 'Batman Rebirth',\n",
       "  'site_detail_url': 'https://comicvine.gamespot.com/batman-rebirth/4050-110833/'}}"
      ]
     },
     "execution_count": 48,
     "metadata": {},
     "output_type": "execute_result"
    }
   ],
   "source": [
    "json.loads(response.text)['results']"
   ]
  },
  {
   "cell_type": "code",
   "execution_count": null,
   "metadata": {},
   "outputs": [],
   "source": []
  }
 ],
 "metadata": {
  "kernelspec": {
   "display_name": "Python 3",
   "language": "python",
   "name": "python3"
  },
  "language_info": {
   "codemirror_mode": {
    "name": "ipython",
    "version": 3
   },
   "file_extension": ".py",
   "mimetype": "text/x-python",
   "name": "python",
   "nbconvert_exporter": "python",
   "pygments_lexer": "ipython3",
   "version": "3.7.5"
  }
 },
 "nbformat": 4,
 "nbformat_minor": 2
}
